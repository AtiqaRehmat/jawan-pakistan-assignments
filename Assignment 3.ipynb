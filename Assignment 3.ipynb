{
 "cells": [
  {
   "cell_type": "code",
   "execution_count": 5,
   "metadata": {},
   "outputs": [
    {
     "name": "stdout",
     "output_type": "stream",
     "text": [
      "        Twinkle, twinkle, little star,\n",
      "        How I wonder what you are!\n",
      "        Up above the world so high,\n",
      "        Like a diamond in the sky.\n",
      "\n",
      "\n",
      "        Twinkle, twinkle, little star,\n",
      "        How I wonder what you are\n"
     ]
    }
   ],
   "source": [
    "poem='''        Twinkle, twinkle, little star,\n",
    "        How I wonder what you are!\n",
    "        Up above the world so high,\n",
    "        Like a diamond in the sky.\n",
    "\n",
    "\n",
    "        Twinkle, twinkle, little star,\n",
    "        How I wonder what you are'''\n",
    "print(poem);"
   ]
  },
  {
   "cell_type": "code",
   "execution_count": 3,
   "metadata": {},
   "outputs": [
    {
     "name": "stdout",
     "output_type": "stream",
     "text": [
      "Python version\n",
      "3.8.3 (default, Jul  2 2020, 17:30:36) [MSC v.1916 64 bit (AMD64)]\n"
     ]
    }
   ],
   "source": [
    "import sys\n",
    "print(\"Python version\")\n",
    "print (sys.version)"
   ]
  },
  {
   "cell_type": "code",
   "execution_count": 4,
   "metadata": {},
   "outputs": [
    {
     "name": "stdout",
     "output_type": "stream",
     "text": [
      "Current date and time : \n",
      "2021-10-24 02:17:24\n"
     ]
    }
   ],
   "source": [
    "import datetime\n",
    "now = datetime.datetime.now()\n",
    "print (\"date and time : \")\n",
    "print (now.strftime(\"%Y-%m-%d %H:%M:%S\"))"
   ]
  },
  {
   "cell_type": "code",
   "execution_count": 7,
   "metadata": {},
   "outputs": [
    {
     "name": "stdout",
     "output_type": "stream",
     "text": [
      "circle radius 2 is: 12.566370614359172\n"
     ]
    }
   ],
   "source": [
    "from math import pi\n",
    "r = 2;\n",
    "print (\"circle radius \" + str(r) + \" is: \" + str(pi * r**2))\n"
   ]
  },
  {
   "cell_type": "code",
   "execution_count": 8,
   "metadata": {},
   "outputs": [
    {
     "name": "stdout",
     "output_type": "stream",
     "text": [
      "Atiqa Rehamt\n"
     ]
    }
   ],
   "source": [
    "firstName=\"Atiqa\";\n",
    "lastName=\"Rehamt\";\n",
    "print(firstName+\" \"+lastName);"
   ]
  },
  {
   "cell_type": "code",
   "execution_count": 13,
   "metadata": {},
   "outputs": [
    {
     "name": "stdout",
     "output_type": "stream",
     "text": [
      "enter num 1 :1\n",
      "enter num 2 :2\n",
      "3\n"
     ]
    }
   ],
   "source": [
    "num1=int(input(\"enter num 1 :\"));\n",
    "num2=int(input(\"enter num 2 :\"));\n",
    "add=num1+num2;\n",
    "print(add);"
   ]
  },
  {
   "cell_type": "code",
   "execution_count": 20,
   "metadata": {},
   "outputs": [
    {
     "name": "stdout",
     "output_type": "stream",
     "text": [
      "enter eng marks :66\n",
      "enter urdu marks :77\n",
      "enter math marks :878\n",
      "enter islamiyat marks :87\n",
      "enter science marks :67\n",
      "235.0\n",
      "Grade A\n"
     ]
    }
   ],
   "source": [
    "eng=int(input(\"enter eng marks :\"));\n",
    "urdu=int(input(\"enter urdu marks :\"));\n",
    "math=int(input(\"enter math marks :\"));\n",
    "isl=int(input(\"enter islamiyat marks :\"));\n",
    "science=int(input(\"enter science marks :\"));\n",
    "obtMarks=eng+urdu+math+isl+science;\n",
    "perc=obtMarks/500*100;\n",
    "print(perc)\n",
    "if perc>=90 or perc<=100:\n",
    "    print(\"Grade A\");\n",
    "elif perc>=80 or perc<=89:\n",
    "    print(\"Grade B\");\n",
    "elif perc>=70 or perc<=79:\n",
    "    print(\"Grade C\");\n",
    "elif perc>=60 or perc<=69:\n",
    "    print(\"Grade D\");\n",
    "elif perc>=50 or perc<=59:\n",
    "    print(\"Grade E\");\n",
    "else:\n",
    "    print(\"FAIL!\");"
   ]
  },
  {
   "cell_type": "code",
   "execution_count": 23,
   "metadata": {},
   "outputs": [
    {
     "name": "stdout",
     "output_type": "stream",
     "text": [
      "enter num  :3\n",
      "even number\n"
     ]
    }
   ],
   "source": [
    "num=int(input(\"enter num  :\"));\n",
    "modul = num % 2\n",
    "if modul > 0:\n",
    "    print(\"even number\");\n",
    "else:\n",
    "    print(\"odd number\");"
   ]
  },
  {
   "cell_type": "code",
   "execution_count": 25,
   "metadata": {},
   "outputs": [
    {
     "data": {
      "text/plain": [
       "3"
      ]
     },
     "execution_count": 25,
     "metadata": {},
     "output_type": "execute_result"
    }
   ],
   "source": [
    "List = ['atiqa','ammara','abban']\n",
    "len(List)"
   ]
  },
  {
   "cell_type": "code",
   "execution_count": 27,
   "metadata": {},
   "outputs": [
    {
     "name": "stdout",
     "output_type": "stream",
     "text": [
      "Sum of elements : 10\n"
     ]
    }
   ],
   "source": [
    "lst = [1,2,3,4]\n",
    "print(\"Sum of elements :\", sum(lst))"
   ]
  },
  {
   "cell_type": "code",
   "execution_count": 29,
   "metadata": {},
   "outputs": [
    {
     "name": "stdout",
     "output_type": "stream",
     "text": [
      "Largest element is: 98\n"
     ]
    }
   ],
   "source": [
    "list1 = [11,43,65,23,98,44,4]\n",
    "list1.sort()\n",
    "print(\"Largest element is:\", list1[-1])"
   ]
  },
  {
   "cell_type": "code",
   "execution_count": 31,
   "metadata": {},
   "outputs": [
    {
     "name": "stdout",
     "output_type": "stream",
     "text": [
      "4\n",
      "1\n",
      "4\n",
      "2\n",
      "3\n",
      "4\n",
      "1\n"
     ]
    }
   ],
   "source": [
    "a = [22,4,34,7,1,23,9,4,54,2,3,4,1,10]\n",
    "\n",
    "for i in a:\n",
    "\n",
    "    if i < 5:\n",
    "\n",
    "        print(i)"
   ]
  },
  {
   "cell_type": "code",
   "execution_count": null,
   "metadata": {},
   "outputs": [],
   "source": []
  }
 ],
 "metadata": {
  "kernelspec": {
   "display_name": "Python 3",
   "language": "python",
   "name": "python3"
  },
  "language_info": {
   "codemirror_mode": {
    "name": "ipython",
    "version": 3
   },
   "file_extension": ".py",
   "mimetype": "text/x-python",
   "name": "python",
   "nbconvert_exporter": "python",
   "pygments_lexer": "ipython3",
   "version": "3.8.3"
  }
 },
 "nbformat": 4,
 "nbformat_minor": 4
}
